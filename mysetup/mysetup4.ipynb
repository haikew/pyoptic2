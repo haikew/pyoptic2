{
 "cells": [
  {
   "cell_type": "code",
   "execution_count": null,
   "metadata": {},
   "outputs": [],
   "source": [
    "# this notebook is used to modeling a powell lens\n",
    "# the powell lens is a kind of lens that can generate a line light source\n"
   ]
  },
  {
   "cell_type": "code",
   "execution_count": null,
   "metadata": {},
   "outputs": [],
   "source": [
    "# import the necessary packages\n",
    "%pylab inline\n",
    "import os\n",
    "import pyoptic2 as pyo\n",
    "from pyoptic2.util import zemax, read_agf\n",
    "from pyoptic2.display import plot2d, plot_system2d\n",
    "import pandas as pd\n",
    "from pyoptic2 import material\n",
    "# get the current path\n",
    "mysetup_dir = os.getcwd()\n",
    "# define the .zar file name\n",
    "zar_file_name1 = 'AC254_100_A_Zemax.zar'\n",
    "zar_file_name2 = 'LJ1567L1_Zemax.zar'\n",
    "# combine the directory and the file name\n",
    "zar_file_path1 = os.path.join(mysetup_dir, zar_file_name1)\n",
    "print(zar_file_path1)\n",
    "zar_file_path2 = os.path.join(mysetup_dir, zar_file_name2)\n",
    "print(zar_file_path2)\n",
    "# read .zar file\n",
    "AC254_100_A = zemax.read_cached_zar(zar_file_path1)\n",
    "LJ1567L1= zemax.read_cached_zar(zar_file_path2)\n",
    "\n",
    "# add materials\n",
    "air = material.Material(material.Material.REFRACT, 1.0)\n",
    "# add zemax glasses\n",
    "glasses = zemax.readZar(zar_file_path2)[1] # Get F_SILICA glass from LJ1567L1_Zemax.zar\n",
    "# build a dictionary of glasses and convert the zemax data to glass dictionary\n",
    "lens_glasses = {}\n",
    "for i in glasses.keys():\n",
    "    glass_data = glasses.get(i, None)\n",
    "    g = zemax.Glass(glass_data)\n",
    "    lens_glasses[i] = g\n",
    "        \n",
    "lens_glasses['air'] = air\n",
    "print(lens_glasses['F_SILICA'].__dict__)"
   ]
  },
  {
   "cell_type": "code",
   "execution_count": null,
   "metadata": {},
   "outputs": [],
   "source": [
    "# create a new light source\n",
    "src = pyo.ColimatedSource('light source', pyo.Placement([0,0,0], [0,1,0]), diameter=30, color=(1,0,0), wavelength=488.\n",
    ")\n",
    "r = src.principle_ray #get the on-axis ray from the light source\n",
    "\n",
    "# generate the system (basically just a container for surfaces)\n",
    "s = pyo.System()\n"
   ]
  },
  {
   "cell_type": "code",
   "execution_count": null,
   "metadata": {},
   "outputs": [],
   "source": [
    "# add surfaces\n",
    "# placement orientation is [x,y,z], y is the optical axis, the unit is 0.1mm\n",
    "s.append(pyo.PlaneSurface(\n",
    "    name= 'source plane',\n",
    "    dimension=np.ones(3) * 100.,\n",
    "    placement=pyo.Placement([0,0,0], [0,1,0]),\n",
    "    material=lens_glasses['air'],\n",
    "))\n",
    "\n",
    "s.append(pyo.SphericalSurface(\n",
    "    name='powell lens',\n",
    "    dimension=np.ones(3) * 16.,\n",
    "    placement=pyo.Placement([0,30,0], [0,1,0]),\n",
    "    curvature_radius=50,\n",
    "    material=lens_glasses['BK7'],\n",
    "))\n",
    "\n",
    "\n",
    "s.append(pyo.PlaneSurface(\n",
    "    name= 'detector',\n",
    "    dimension=np.ones(3) * 5.,\n",
    "    placement=pyo.Placement([26, 220, 0], [0, 1, 0]),\n",
    "    material=lens_glasses['air'],\n",
    "))\n",
    "\n",
    "\n"
   ]
  },
  {
   "cell_type": "code",
   "execution_count": null,
   "metadata": {},
   "outputs": [],
   "source": [
    "# plot the 2d system\n",
    "figure(figsize=(18,5))\n",
    "plot_system2d(s, 'xy')\n",
    "plot2d(s.propagate(src.chief_rays), 'xy')\n",
    "axis('equal')\n",
    "grid()"
   ]
  }
 ],
 "metadata": {
  "kernelspec": {
   "display_name": "mypyoptic",
   "language": "python",
   "name": "python3"
  },
  "language_info": {
   "codemirror_mode": {
    "name": "ipython",
    "version": 3
   },
   "file_extension": ".py",
   "mimetype": "text/x-python",
   "name": "python",
   "nbconvert_exporter": "python",
   "pygments_lexer": "ipython3",
   "version": "3.7.7"
  }
 },
 "nbformat": 4,
 "nbformat_minor": 2
}
